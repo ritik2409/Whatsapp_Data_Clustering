{
 "cells": [
  {
   "cell_type": "code",
   "execution_count": 3,
   "metadata": {},
   "outputs": [
    {
     "name": "stdout",
     "output_type": "stream",
     "text": [
      "C:\\Users\\user\\Desktop\\Word Clustering\\product\\server\n",
      "C:\\Users\\user\\Desktop\\Word Clustering\\product\\server\\Upload folder\n"
     ]
    }
   ],
   "source": [
    "# -*- coding: utf-8 -*-\n",
    "\"\"\"\n",
    "Created on Tue Jul  9 11:54:55 2019\n",
    "\n",
    "@author: Ritik\n",
    "\"\"\"\n",
    "#path to import different python files and models\n",
    "sys_path = 'C:/Users/user/Desktop/Word Clustering/product/server'\n",
    "\n",
    "#Path to upload and download text files\n",
    "Upload_folder = 'C:/Users/user/Desktop/Word Clustering/Upload Folder'   \n",
    "\n",
    "import os\n",
    "print(os.getcwd())\n",
    "Upload_folder = os.getcwd() + r\"\\Upload folder\"\n",
    "print(Upload_folder)"
   ]
  },
  {
   "cell_type": "code",
   "execution_count": null,
   "metadata": {},
   "outputs": [],
   "source": []
  }
 ],
 "metadata": {
  "kernelspec": {
   "display_name": "Python 3",
   "language": "python",
   "name": "python3"
  },
  "language_info": {
   "codemirror_mode": {
    "name": "ipython",
    "version": 3
   },
   "file_extension": ".py",
   "mimetype": "text/x-python",
   "name": "python",
   "nbconvert_exporter": "python",
   "pygments_lexer": "ipython3",
   "version": "3.7.3"
  }
 },
 "nbformat": 4,
 "nbformat_minor": 2
}
